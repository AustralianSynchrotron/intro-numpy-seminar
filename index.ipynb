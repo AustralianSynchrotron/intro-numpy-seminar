{
 "cells": [
  {
   "cell_type": "code",
   "execution_count": null,
   "metadata": {
    "collapsed": false,
    "slideshow": {
     "slide_type": "skip"
    }
   },
   "outputs": [],
   "source": [
    "%matplotlib inline\n",
    "import numpy as np\n",
    "import matplotlib.pyplot as plt\n",
    "from IPython.display import display, clear_output\n",
    "\n",
    "# Styling\n",
    "plt.style.use('ggplot')\n",
    "plt.rc('figure', figsize=(16, 8))\n",
    "plt.rc('axes', grid=False)\n",
    "plt.rc('image', cmap='gray')\n",
    "plt.rc('font', size=14)\n",
    "plt.rc('xtick', labelsize=12)\n",
    "plt.rc('ytick', labelsize=12)\n",
    "np.set_printoptions(edgeitems=2, precision=3, linewidth=85)"
   ]
  },
  {
   "cell_type": "markdown",
   "metadata": {
    "collapsed": false,
    "slideshow": {
     "slide_type": "slide"
    }
   },
   "source": [
    "![](images/scientific-python.svg)"
   ]
  },
  {
   "cell_type": "markdown",
   "metadata": {
    "slideshow": {
     "slide_type": "slide"
    }
   },
   "source": [
    "# NumPy Arrays vs Python Lists\n",
    "\n",
    "| Numpy ndarray | Python list\n",
    "| --- | ---\n",
    "| **<span style=\"color:green\">multidimensional</span>** | **<span style=\"color:red\">1-dimensional (although can store nested lists)</span>**\n",
    "| **<span style=\"color:green\">homogenous</span>**\\* | **<span style=\"color:green\">can store python objects of differing types</span>**\n",
    "| **<span style=\"color:red\">fixed-size</span>** | **<span style=\"color:green\">can be extended or reduced in length</span>**\n",
    "| **<span style=\"color:green\">faster</span>** | **<span style=\"color:red\">slower</span>**\n",
    "| **<span style=\"color:green\">consumes less memory</span>** | **<span style=\"color:red\">consumes more memory</span>**\n",
    "\n",
    "\\* You *can* store heterogenous Python objects in a numpy array but you lose the performance and memory benefits."
   ]
  },
  {
   "cell_type": "code",
   "execution_count": null,
   "metadata": {
    "collapsed": false
   },
   "outputs": [],
   "source": [
    "python_list = [1, 5.5, 'banana']\n",
    "\n",
    "print(python_list)\n",
    "\n",
    "print([type(value) for value in python_list])"
   ]
  },
  {
   "cell_type": "code",
   "execution_count": null,
   "metadata": {
    "collapsed": false
   },
   "outputs": [],
   "source": [
    "import numpy as np\n",
    "\n",
    "numpy_array = np.array([1, 5.5, 'banana'])\n",
    "\n",
    "print(numpy_array)"
   ]
  },
  {
   "cell_type": "code",
   "execution_count": null,
   "metadata": {
    "collapsed": false
   },
   "outputs": [],
   "source": [
    "print([type(value) for value in numpy_array])"
   ]
  },
  {
   "cell_type": "code",
   "execution_count": null,
   "metadata": {
    "collapsed": false
   },
   "outputs": [],
   "source": [
    "numpy_array.dtype"
   ]
  },
  {
   "cell_type": "code",
   "execution_count": null,
   "metadata": {
    "collapsed": false
   },
   "outputs": [],
   "source": [
    "python_list.append('abc')\n",
    "\n",
    "print(python_list)"
   ]
  },
  {
   "cell_type": "code",
   "execution_count": null,
   "metadata": {
    "collapsed": false
   },
   "outputs": [],
   "source": [
    "numpy_array.append('abc')"
   ]
  },
  {
   "cell_type": "markdown",
   "metadata": {},
   "source": [
    "# Performance"
   ]
  },
  {
   "cell_type": "code",
   "execution_count": null,
   "metadata": {
    "collapsed": true
   },
   "outputs": [],
   "source": [
    "TEN_MILLION = 10000000"
   ]
  },
  {
   "cell_type": "code",
   "execution_count": null,
   "metadata": {
    "collapsed": false
   },
   "outputs": [],
   "source": [
    "list_of_numbers = list(range(TEN_MILLION))\n",
    "list_of_numbers[:10]"
   ]
  },
  {
   "cell_type": "code",
   "execution_count": null,
   "metadata": {
    "collapsed": false
   },
   "outputs": [],
   "source": [
    "array_of_numbers = np.array(list_of_numbers)\n",
    "array_of_numbers[:10]"
   ]
  },
  {
   "cell_type": "code",
   "execution_count": null,
   "metadata": {
    "collapsed": false
   },
   "outputs": [],
   "source": [
    "%timeit doubled = [v * 2 for v in list_of_numbers]"
   ]
  },
  {
   "cell_type": "code",
   "execution_count": null,
   "metadata": {
    "collapsed": false
   },
   "outputs": [],
   "source": [
    "%timeit doubled = array_of_numbers * 2"
   ]
  },
  {
   "cell_type": "code",
   "execution_count": null,
   "metadata": {
    "collapsed": false
   },
   "outputs": [],
   "source": [
    "# Calculate the mean\n",
    "\n",
    "%timeit sum(list_of_numbers) / len(list_of_numbers)\n",
    "\n",
    "%timeit np.mean(array_of_numbers)"
   ]
  },
  {
   "cell_type": "markdown",
   "metadata": {},
   "source": [
    "# Memory"
   ]
  },
  {
   "cell_type": "code",
   "execution_count": null,
   "metadata": {
    "collapsed": false
   },
   "outputs": [],
   "source": [
    "from sys import getsizeof\n",
    "list_size_bytes = getsizeof(list_of_numbers) + sum(getsizeof(v) for v in list_of_numbers)\n",
    "print('list size (MB):', list_size_bytes / 1e6)"
   ]
  },
  {
   "cell_type": "code",
   "execution_count": null,
   "metadata": {
    "collapsed": false
   },
   "outputs": [],
   "source": [
    "print('numpy array size (MB):', array_of_numbers.nbytes / 1e6)"
   ]
  },
  {
   "cell_type": "code",
   "execution_count": null,
   "metadata": {
    "collapsed": false
   },
   "outputs": [],
   "source": [
    "array_of_8_bit_integers = array_of_numbers.astype('uint8')\n",
    "\n",
    "print('uint8 array size (MB):', array_of_8_bit_integers.nbytes / 1e6)"
   ]
  },
  {
   "cell_type": "markdown",
   "metadata": {},
   "source": [
    "# Ways to create NumPy arrays"
   ]
  },
  {
   "cell_type": "code",
   "execution_count": null,
   "metadata": {
    "collapsed": false
   },
   "outputs": [],
   "source": [
    "np.array([[1, 2, 3], [4, 5, 6], [7, 8, 9]], dtype='float16')"
   ]
  },
  {
   "cell_type": "markdown",
   "metadata": {},
   "source": [
    "| `dtype` | data | min | max | resolution (%)\n",
    "| --- | --- | --- | --- | ---\n",
    "| `uint8` | unsigned integers | 0 | 255 | 0\n",
    "| `int8` | signed integers | -128 | 127 | 0\n",
    "| `int64` | signed integers | -9223372036854775808 | 9223372036854775807 | 0\n",
    "| `float16` | floating point numbers | -65504.0 | 65504.0 | 0.1\n",
    "| `float128` | floating point numbers | -1.18973149536e+4932 | 1.18973149536e+4932 | 1e-16\n",
    "| `U40` | text (utf-8) | | 40 characters ||\n",
    "| `complex256` | complex numbers |||||\n",
    "\n",
    "Complete list: https://docs.scipy.org/doc/numpy/reference/arrays.scalars.html"
   ]
  },
  {
   "cell_type": "code",
   "execution_count": null,
   "metadata": {
    "collapsed": false
   },
   "outputs": [],
   "source": [
    "np.arange(start=5, stop=6, step=.1)"
   ]
  },
  {
   "cell_type": "code",
   "execution_count": null,
   "metadata": {
    "collapsed": false
   },
   "outputs": [],
   "source": [
    "np.linspace(start=5, stop=10, num=30)"
   ]
  },
  {
   "cell_type": "code",
   "execution_count": null,
   "metadata": {
    "collapsed": false
   },
   "outputs": [],
   "source": [
    "np.logspace(-2, 2, num=5)"
   ]
  },
  {
   "cell_type": "code",
   "execution_count": null,
   "metadata": {
    "collapsed": false
   },
   "outputs": [],
   "source": [
    "np.zeros(shape=(3, 5))"
   ]
  },
  {
   "cell_type": "code",
   "execution_count": null,
   "metadata": {
    "collapsed": false
   },
   "outputs": [],
   "source": [
    "np.ones(shape=(3, 5), dtype='int64')"
   ]
  },
  {
   "cell_type": "code",
   "execution_count": null,
   "metadata": {
    "collapsed": false
   },
   "outputs": [],
   "source": [
    "np.identity(4)"
   ]
  },
  {
   "cell_type": "code",
   "execution_count": null,
   "metadata": {
    "collapsed": false
   },
   "outputs": [],
   "source": [
    "np.random.normal(size=(3, 3))"
   ]
  },
  {
   "cell_type": "markdown",
   "metadata": {},
   "source": [
    "# Loading a image file"
   ]
  },
  {
   "cell_type": "code",
   "execution_count": null,
   "metadata": {
    "collapsed": false
   },
   "outputs": [],
   "source": [
    "import scipy.ndimage\n",
    "\n",
    "parrot = scipy.ndimage.imread('images/parrot.jpg')\n",
    "\n",
    "type(parrot)"
   ]
  },
  {
   "cell_type": "code",
   "execution_count": null,
   "metadata": {
    "collapsed": false
   },
   "outputs": [],
   "source": [
    "plt.imshow(parrot)"
   ]
  },
  {
   "cell_type": "code",
   "execution_count": null,
   "metadata": {
    "collapsed": false
   },
   "outputs": [],
   "source": [
    "parrot"
   ]
  },
  {
   "cell_type": "code",
   "execution_count": null,
   "metadata": {
    "collapsed": false
   },
   "outputs": [],
   "source": [
    "print('Dimensions:', parrot.ndim)\n",
    "print('Shape:', parrot.shape)\n",
    "print('Data Type:', parrot.dtype)"
   ]
  },
  {
   "cell_type": "markdown",
   "metadata": {
    "collapsed": false
   },
   "source": [
    "![](images/3d_array.svg)"
   ]
  },
  {
   "cell_type": "markdown",
   "metadata": {},
   "source": [
    "# Refresher on List Indexing and Slicing"
   ]
  },
  {
   "cell_type": "code",
   "execution_count": null,
   "metadata": {
    "collapsed": true
   },
   "outputs": [],
   "source": [
    "characters = ['A', 'B', 'C', 'D', 'E', 'F', 'G', 'H', 'I', 'J', 'K', 'L', 'M',\n",
    "              'N', 'O', 'P', 'Q', 'R', 'S', 'T', 'U', 'V', 'W', 'X', 'Y', 'Z']"
   ]
  },
  {
   "cell_type": "markdown",
   "metadata": {},
   "source": [
    "### Zero based"
   ]
  },
  {
   "cell_type": "code",
   "execution_count": null,
   "metadata": {
    "collapsed": false
   },
   "outputs": [],
   "source": [
    "characters[0]"
   ]
  },
  {
   "cell_type": "markdown",
   "metadata": {},
   "source": [
    "### Use negative numbers to index from end of list"
   ]
  },
  {
   "cell_type": "code",
   "execution_count": null,
   "metadata": {
    "collapsed": false
   },
   "outputs": [],
   "source": [
    "characters[-1]"
   ]
  },
  {
   "cell_type": "markdown",
   "metadata": {},
   "source": [
    "### Slice notation: `list[ start : stop : step ]`\n",
    "\n",
    "Upper bound (`stop`) not included"
   ]
  },
  {
   "cell_type": "code",
   "execution_count": null,
   "metadata": {
    "collapsed": false
   },
   "outputs": [],
   "source": [
    "characters[10:12]"
   ]
  },
  {
   "cell_type": "code",
   "execution_count": null,
   "metadata": {
    "collapsed": false
   },
   "outputs": [],
   "source": [
    "characters[::2]"
   ]
  },
  {
   "cell_type": "markdown",
   "metadata": {},
   "source": [
    "Negative `step` value slices backwards:"
   ]
  },
  {
   "cell_type": "code",
   "execution_count": null,
   "metadata": {
    "collapsed": false,
    "scrolled": true
   },
   "outputs": [],
   "source": [
    "characters[25:20:-1]"
   ]
  },
  {
   "cell_type": "markdown",
   "metadata": {},
   "source": [
    "# NumPy Array Indexing and Slicing\n",
    "\n",
    "## One index or slice per dimension"
   ]
  },
  {
   "cell_type": "code",
   "execution_count": null,
   "metadata": {
    "collapsed": false
   },
   "outputs": [],
   "source": [
    "parrot.shape"
   ]
  },
  {
   "cell_type": "code",
   "execution_count": null,
   "metadata": {
    "collapsed": false
   },
   "outputs": [],
   "source": [
    "parrot[2, 4, 0]"
   ]
  },
  {
   "cell_type": "markdown",
   "metadata": {},
   "source": [
    "![](images/indexing.svg)"
   ]
  },
  {
   "cell_type": "markdown",
   "metadata": {
    "collapsed": false
   },
   "source": [
    "![](images/slicing.svg)"
   ]
  },
  {
   "cell_type": "markdown",
   "metadata": {
    "collapsed": false
   },
   "source": [
    "![](images/slicing_combined.svg)"
   ]
  },
  {
   "cell_type": "code",
   "execution_count": null,
   "metadata": {
    "collapsed": false
   },
   "outputs": [],
   "source": [
    "red_array = parrot[:, :, 0]\n",
    "\n",
    "green_array = parrot[:, :, 1]\n",
    "\n",
    "blue_array = parrot[:, :, 2]\n",
    "\n",
    "print('Dimensions:', red_array.ndim)\n",
    "print('Shape:', red_array.shape)"
   ]
  },
  {
   "cell_type": "code",
   "execution_count": null,
   "metadata": {
    "collapsed": false
   },
   "outputs": [],
   "source": [
    "def show_image(arr, title, ax):\n",
    "    ax.imshow(arr)\n",
    "    ax.set_title(title)\n",
    "\n",
    "fig, axes = plt.subplots(2, 2)\n",
    "show_image(parrot, 'array', axes[0, 0])\n",
    "show_image(red_array, 'array[:, :, 0] (red)', axes[0, 1])\n",
    "show_image(green_array, 'array[:, :, 1] (green)', axes[1, 0])\n",
    "show_image(blue_array, 'array[:, :, 2] (blue)', axes[1, 1])"
   ]
  },
  {
   "cell_type": "code",
   "execution_count": null,
   "metadata": {
    "collapsed": false
   },
   "outputs": [],
   "source": [
    "zoomed = parrot[80:170, 100:400, :]\n",
    "\n",
    "print('Shape:', zoomed.shape)"
   ]
  },
  {
   "cell_type": "code",
   "execution_count": null,
   "metadata": {
    "collapsed": false
   },
   "outputs": [],
   "source": [
    "plt.imshow(zoomed)"
   ]
  },
  {
   "cell_type": "code",
   "execution_count": null,
   "metadata": {
    "collapsed": false
   },
   "outputs": [],
   "source": [
    "colours_reversed = parrot[:, :, ::-1]\n",
    "\n",
    "colours_shuffled = parrot[:, :, (2, 0, 1)]\n",
    "\n",
    "_, axes = plt.subplots(1, 2)\n",
    "show_image(colours_reversed, 'Colours reversed', axes[0])\n",
    "show_image(colours_shuffled, 'Colours shuffled', axes[1])"
   ]
  },
  {
   "cell_type": "code",
   "execution_count": null,
   "metadata": {
    "collapsed": false
   },
   "outputs": [],
   "source": [
    "downsampled = parrot[::10, ::10, :]\n",
    "\n",
    "plt.imshow(downsampled, interpolation='none')"
   ]
  },
  {
   "cell_type": "code",
   "execution_count": null,
   "metadata": {
    "collapsed": false
   },
   "outputs": [],
   "source": [
    "flipped = parrot[::-1, ::-1, :]\n",
    "\n",
    "plt.imshow(flipped)"
   ]
  },
  {
   "cell_type": "markdown",
   "metadata": {},
   "source": [
    "# NumPy Array Views\n",
    "\n",
    "Whenever you take a slice of a numpy array it is actually a \"view\" of the original array. This saves memory but be warned if you update the slice you will update the original:"
   ]
  },
  {
   "cell_type": "code",
   "execution_count": null,
   "metadata": {
    "collapsed": false
   },
   "outputs": [],
   "source": [
    "slice_of_parrot = parrot[50:200, 100:400, :]\n",
    "\n",
    "slice_of_parrot[::3, :, :] = 255\n",
    "\n",
    "_, axes = plt.subplots(1, 2)\n",
    "show_image(slice_of_parrot, 'Slice of parrot', axes[0])\n",
    "show_image(parrot, 'Original parrot', axes[1])"
   ]
  },
  {
   "cell_type": "markdown",
   "metadata": {},
   "source": [
    "## Use `.copy()` to create a copy of the array that you can safely modify"
   ]
  },
  {
   "cell_type": "code",
   "execution_count": null,
   "metadata": {
    "collapsed": false
   },
   "outputs": [],
   "source": [
    "parrot = scipy.ndimage.imread('images/parrot.jpg')\n",
    "\n",
    "slice_of_parrot = parrot[50:200, 100:400, :].copy()\n",
    "slice_of_parrot[::3, :, :] = 255\n",
    "\n",
    "_, axes = plt.subplots(1, 2)\n",
    "show_image(slice_of_parrot, 'Slice of parrot', axes[0])\n",
    "show_image(parrot, 'Original parrot', axes[1])"
   ]
  },
  {
   "cell_type": "markdown",
   "metadata": {},
   "source": [
    "# Operations on Arrays"
   ]
  },
  {
   "cell_type": "markdown",
   "metadata": {},
   "source": [
    "## Statistics"
   ]
  },
  {
   "cell_type": "code",
   "execution_count": null,
   "metadata": {
    "collapsed": false
   },
   "outputs": [],
   "source": [
    "print('Mean:', np.mean(parrot))\n",
    "print('Median:', np.median(parrot))\n",
    "print('Standard deviation:', np.std(parrot))\n",
    "print('Min:', parrot.min())\n",
    "print('Max:', parrot.max())"
   ]
  },
  {
   "cell_type": "markdown",
   "metadata": {},
   "source": [
    "# `axis` parameter\n",
    "\n",
    "Apply operation along a given dimension."
   ]
  },
  {
   "cell_type": "code",
   "execution_count": null,
   "metadata": {
    "collapsed": false
   },
   "outputs": [],
   "source": [
    "average_colour = np.mean(parrot, axis=2)\n",
    "\n",
    "print(average_colour.shape)\n",
    "print(average_colour.dtype)"
   ]
  },
  {
   "cell_type": "code",
   "execution_count": null,
   "metadata": {
    "collapsed": false
   },
   "outputs": [],
   "source": [
    "plt.imshow(average_colour)"
   ]
  },
  {
   "cell_type": "markdown",
   "metadata": {},
   "source": [
    "## Peak finding with `.argmin()` and `.argmax()`"
   ]
  },
  {
   "cell_type": "code",
   "execution_count": null,
   "metadata": {
    "collapsed": false
   },
   "outputs": [],
   "source": [
    "intensity_by_row = parrot.sum(axis=(1, 2))\n",
    "\n",
    "plt.plot(intensity_by_row)"
   ]
  },
  {
   "cell_type": "code",
   "execution_count": null,
   "metadata": {
    "collapsed": false
   },
   "outputs": [],
   "source": [
    "brightest_row = intensity_by_row.argmax()\n",
    "darkest_row = intensity_by_row.argmin()\n",
    "\n",
    "print('Brightest row index:', brightest_row)\n",
    "print('Darkest row index:', darkest_row)"
   ]
  },
  {
   "cell_type": "code",
   "execution_count": null,
   "metadata": {
    "collapsed": false
   },
   "outputs": [],
   "source": [
    "plt.plot(intensity_by_row)\n",
    "plt.axvline(brightest_row, color='g')\n",
    "plt.axvline(darkest_row, color='y')"
   ]
  },
  {
   "cell_type": "markdown",
   "metadata": {},
   "source": [
    "## Use `.reshape()` to change the lengths of the dimensions (number of elements remains constant)"
   ]
  },
  {
   "cell_type": "code",
   "execution_count": null,
   "metadata": {
    "collapsed": false
   },
   "outputs": [],
   "source": [
    "reshaped = np.reshape(parrot, (222, -1, 3))\n",
    "\n",
    "plt.imshow(reshaped)"
   ]
  },
  {
   "cell_type": "markdown",
   "metadata": {},
   "source": [
    "## Use `.astype` to convert to a different data type"
   ]
  },
  {
   "cell_type": "code",
   "execution_count": null,
   "metadata": {
    "collapsed": false
   },
   "outputs": [],
   "source": [
    "parrot.astype('float64')"
   ]
  },
  {
   "cell_type": "code",
   "execution_count": null,
   "metadata": {
    "collapsed": false
   },
   "outputs": [],
   "source": [
    "small_array = np.array([0, 1, 2], dtype='uint8')\n",
    "\n",
    "small_array - 1"
   ]
  },
  {
   "cell_type": "code",
   "execution_count": null,
   "metadata": {
    "collapsed": false
   },
   "outputs": [],
   "source": [
    "small_array.astype('int') - 1"
   ]
  },
  {
   "cell_type": "markdown",
   "metadata": {},
   "source": [
    "## Convert to a Python list"
   ]
  },
  {
   "cell_type": "code",
   "execution_count": null,
   "metadata": {
    "collapsed": false
   },
   "outputs": [],
   "source": [
    "parrot_list = parrot.tolist()"
   ]
  },
  {
   "cell_type": "markdown",
   "metadata": {},
   "source": [
    "## Many other functions including...\n",
    "\n",
    "* `np.log`, `np.sqrt`, `np.abs`, `np.real`, `np.imag`\n",
    "* `np.sin`, `np.cos`, `np.tan`, `np.arcsin`, ...\n",
    "* `np.linalg.det`, `np.linalg.inv`, `np.linalg.svd`, ...\n",
    "* `np.fft`\n",
    "\n",
    "Even more available in the **scipy** package."
   ]
  },
  {
   "cell_type": "markdown",
   "metadata": {},
   "source": [
    "# Broadcasting\n",
    "\n",
    "When an arithmetic operation is done on two arrays with different shapes, numpy will expand dimensions of length one to try and make the shapes match in a process called [broadcasting](https://docs.scipy.org/doc/numpy/user/basics.broadcasting.html).\n",
    "\n",
    "![](images/broadcasting.svg)"
   ]
  },
  {
   "cell_type": "markdown",
   "metadata": {},
   "source": [
    "If the number of dimensions don't match, imagine the array with fewer dimensions being left padded with dimensions of length 1."
   ]
  },
  {
   "cell_type": "markdown",
   "metadata": {},
   "source": [
    "### Using broadcasting to apply colour transformation"
   ]
  },
  {
   "cell_type": "code",
   "execution_count": null,
   "metadata": {
    "collapsed": false
   },
   "outputs": [],
   "source": [
    "parrot.shape\n",
    "\n",
    "# Supported broadcasting shapes:\n",
    "#           (1)\n",
    "#           (3)\n",
    "#        (1, 3)\n",
    "#      (500, 3)\n",
    "#   (1,   1, 3)\n",
    "#   (1, 500, 3)\n",
    "# (333,   1, 3)\n",
    "# (333, 500, 3)"
   ]
  },
  {
   "cell_type": "code",
   "execution_count": null,
   "metadata": {
    "collapsed": false,
    "scrolled": false
   },
   "outputs": [],
   "source": [
    "enhanced_parrot = parrot * [.25, 1.0, 1.2]\n",
    "\n",
    "# Broadcasting check: (333, 500, 3) * (3) ⇒ (333, 500, 3) * (1, 1, 3) : ✓\n",
    "\n",
    "normalised = enhanced_parrot / enhanced_parrot.max()\n",
    "\n",
    "plt.imshow(normalised)"
   ]
  },
  {
   "cell_type": "markdown",
   "metadata": {},
   "source": [
    "# Matrix Algebra\n",
    "\n",
    "## Luminance-Preserving Transform\n",
    "\n",
    "$$\n",
    "\\begin{align*}\n",
    "Y &= R \\times 0.299 + G \\times 0.587 + B \\times 0.114 \\\\\n",
    "Y &= \\left[\\begin{array}{3} R & G & B \\end{array} \\right] \\cdot \\left[\\begin{array}{1} 0.299\\\\ 0.587\\\\ 0.114 \\end{array}\\right] \\\\\n",
    "\\end{align*}\n",
    "$$"
   ]
  },
  {
   "cell_type": "code",
   "execution_count": null,
   "metadata": {
    "collapsed": false
   },
   "outputs": [],
   "source": [
    "grayscale_parrot = parrot @ [0.299, 0.587, 0.114]"
   ]
  },
  {
   "cell_type": "code",
   "execution_count": null,
   "metadata": {
    "collapsed": false
   },
   "outputs": [],
   "source": [
    "_, axes = plt.subplots(1, 2)\n",
    "show_image(average_colour, 'Mean', axes[0])\n",
    "show_image(grayscale_parrot, 'Luminance-preserved', axes[1])"
   ]
  },
  {
   "cell_type": "markdown",
   "metadata": {},
   "source": [
    "## Transpose"
   ]
  },
  {
   "cell_type": "code",
   "execution_count": null,
   "metadata": {
    "collapsed": false
   },
   "outputs": [],
   "source": [
    "transposed_parrot = grayscale_parrot.T\n",
    "\n",
    "plt.imshow(transposed_parrot)"
   ]
  },
  {
   "cell_type": "markdown",
   "metadata": {},
   "source": [
    "# Setting array values with a boolean mask"
   ]
  },
  {
   "cell_type": "code",
   "execution_count": null,
   "metadata": {
    "collapsed": false
   },
   "outputs": [],
   "source": [
    "mask = grayscale_parrot > grayscale_parrot.mean()"
   ]
  },
  {
   "cell_type": "code",
   "execution_count": null,
   "metadata": {
    "collapsed": false
   },
   "outputs": [],
   "source": [
    "print(mask)\n",
    "print(mask.shape)"
   ]
  },
  {
   "cell_type": "code",
   "execution_count": null,
   "metadata": {
    "collapsed": false
   },
   "outputs": [],
   "source": [
    "black_and_white_parrot = np.zeros_like(grayscale_parrot)\n",
    "black_and_white_parrot[mask] = 255\n",
    "\n",
    "plt.imshow(black_and_white_parrot)"
   ]
  },
  {
   "cell_type": "markdown",
   "metadata": {
    "collapsed": true
   },
   "source": [
    "# Reading and writing"
   ]
  },
  {
   "cell_type": "markdown",
   "metadata": {},
   "source": [
    "## Save a single array"
   ]
  },
  {
   "cell_type": "code",
   "execution_count": null,
   "metadata": {
    "collapsed": false
   },
   "outputs": [],
   "source": [
    "np.save('output/data.npy', parrot)"
   ]
  },
  {
   "cell_type": "code",
   "execution_count": null,
   "metadata": {
    "collapsed": false
   },
   "outputs": [],
   "source": [
    "arr = np.load('output/data.npy')\n",
    "\n",
    "print(arr.shape, arr.dtype)"
   ]
  },
  {
   "cell_type": "markdown",
   "metadata": {},
   "source": [
    "## Save multiple arrays"
   ]
  },
  {
   "cell_type": "code",
   "execution_count": null,
   "metadata": {
    "collapsed": false
   },
   "outputs": [],
   "source": [
    "np.savez('output/data.npz', parrot=parrot, other=grayscale_parrot)"
   ]
  },
  {
   "cell_type": "code",
   "execution_count": null,
   "metadata": {
    "collapsed": false
   },
   "outputs": [],
   "source": [
    "parrot_reloaded = np.load('output/data.npz')['parrot']\n",
    "\n",
    "print(parrot_reloaded.shape, parrot_reloaded.dtype)"
   ]
  },
  {
   "cell_type": "markdown",
   "metadata": {},
   "source": [
    "## Save raw bytes\n",
    "\n",
    "### Warning: shape and dtype information is not stored"
   ]
  },
  {
   "cell_type": "code",
   "execution_count": null,
   "metadata": {
    "collapsed": false
   },
   "outputs": [],
   "source": [
    "parrot.tofile('output/data.raw')\n",
    "\n",
    "parrot_reloaded = np.fromfile('output/data.raw')\n",
    "\n",
    "print(parrot_reloaded.shape, parrot_reloaded.dtype)"
   ]
  },
  {
   "cell_type": "markdown",
   "metadata": {},
   "source": [
    "## HDF5"
   ]
  },
  {
   "cell_type": "code",
   "execution_count": null,
   "metadata": {
    "collapsed": false
   },
   "outputs": [],
   "source": [
    "import h5py\n",
    "\n",
    "with h5py.File('output/data.hdf5', 'w') as file:\n",
    "    file['parrot'] = parrot"
   ]
  },
  {
   "cell_type": "code",
   "execution_count": null,
   "metadata": {
    "collapsed": false
   },
   "outputs": [],
   "source": [
    "with h5py.File('output/data.hdf5') as file:\n",
    "    parrot_reloaded = file['parrot'][...]\n",
    "\n",
    "print(parrot_reloaded.shape, parrot_reloaded.dtype)"
   ]
  },
  {
   "cell_type": "markdown",
   "metadata": {},
   "source": [
    "## MATLAB"
   ]
  },
  {
   "cell_type": "code",
   "execution_count": null,
   "metadata": {
    "collapsed": true
   },
   "outputs": [],
   "source": [
    "import scipy.io\n",
    "\n",
    "scipy.io.savemat('output/data.mat', {'parrot': parrot})"
   ]
  },
  {
   "cell_type": "code",
   "execution_count": null,
   "metadata": {
    "collapsed": false
   },
   "outputs": [],
   "source": [
    "parrot_reloaded = scipy.io.loadmat('output/data.mat')['parrot']\n",
    "\n",
    "print(parrot_reloaded.shape, parrot_reloaded.dtype)"
   ]
  },
  {
   "cell_type": "markdown",
   "metadata": {},
   "source": [
    "# Bonus: Conway's Game of Life in Two Lines of NumPy"
   ]
  },
  {
   "cell_type": "code",
   "execution_count": null,
   "metadata": {
    "collapsed": true
   },
   "outputs": [],
   "source": [
    "def life_step(X):\n",
    "    \"\"\"From the brilliant Jake VanderPlas: https://jakevdp.github.io/blog/2013/08/07/conways-game-of-life/\"\"\"\n",
    "    neighbours = np.sum(np.roll(np.roll(X, i, 0), j, 1) for i in (-1, 0, 1) for j in (-1, 0, 1) if (i != 0 or j != 0))\n",
    "    return (neighbours == 3) | (X & (neighbours == 2))"
   ]
  },
  {
   "cell_type": "code",
   "execution_count": null,
   "metadata": {
    "collapsed": false
   },
   "outputs": [],
   "source": [
    "X = np.random.randint(2, size=(50, 100), dtype='uint8')\n",
    "\n",
    "fig, ax = plt.subplots(figsize=(10, 5))\n",
    "img = ax.matshow(X)\n",
    "\n",
    "try:\n",
    "    while True:\n",
    "        X = life_step(X)\n",
    "        img.set_data(X)\n",
    "        clear_output(wait=True)\n",
    "        display(fig)\n",
    "except KeyboardInterrupt:\n",
    "    pass"
   ]
  },
  {
   "cell_type": "code",
   "execution_count": null,
   "metadata": {
    "collapsed": true
   },
   "outputs": [],
   "source": []
  }
 ],
 "metadata": {
  "kernelspec": {
   "display_name": "Python 3",
   "language": "python",
   "name": "python3"
  },
  "language_info": {
   "codemirror_mode": {
    "name": "ipython",
    "version": 3
   },
   "file_extension": ".py",
   "mimetype": "text/x-python",
   "name": "python",
   "nbconvert_exporter": "python",
   "pygments_lexer": "ipython3",
   "version": "3.5.1"
  }
 },
 "nbformat": 4,
 "nbformat_minor": 0
}
